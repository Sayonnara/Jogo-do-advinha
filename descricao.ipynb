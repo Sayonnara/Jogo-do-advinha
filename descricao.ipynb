{
 "cells": [
  {
   "cell_type": "markdown",
   "metadata": {},
   "source": [
    "**Executando o Projeto no VSCode**\n",
    "\n",
    "No terminal, execute o programa:\n",
    "\n",
    ">    dart run lib/main.dart\n"
   ]
  },
  {
   "cell_type": "markdown",
   "metadata": {},
   "source": [
    "___"
   ]
  },
  {
   "cell_type": "markdown",
   "metadata": {},
   "source": [
    "# Explicação do Código\n",
    "\n",
    "**import 'dart:io';** – Importa a biblioteca para ler entrada do usuário.\n",
    "\n",
    "**import 'dart:math';** – Importa a biblioteca para gerar números aleatórios.\n",
    "\n",
    "**void main()** { – Define o ponto de entrada do programa.\n",
    "\n",
    "**final random = Random();** – Cria um gerador de números aleatórios.\n",
    "\n",
    "**int numeroAleatorio = random.nextInt(100) + 1;** – Gera um número aleatório entre 1 e 100.\n",
    "\n",
    "**int tentativas = 0;** – Inicializa o contador de tentativas.\n",
    "\n",
    "**bool acertou = false;**– Define se o jogador acertou o número.\n",
    "\n",
    "**print('Bem-vindo ao Jogo da Adivinhação!');** – Exibe uma mensagem de boas-vindas.\n",
    "\n",
    "**print('Tente adivinhar o número entre 1 e 100.');** – Explica o objetivo do jogo.\n",
    "\n",
    "**while (!acertou) {** – Inicia um loop que continua até o jogador acertar.\n",
    "\n",
    "**stdout.write('Digite seu palpite: ');** – Pede ao jogador um palpite.\n",
    "\n",
    "**String? input = stdin.readLineSync();** – Lê a entrada do usuário.\n",
    "\n",
    "**int palpite;** – Declara a variável palpite.\n",
    "\n",
    "**try { palpite = int.parse(input!);** } – Tenta converter a entrada para número.\n",
    "\n",
    "**catch (e) { print('Por favor, insira um número válido.'); continue; }** – Trata erros de conversão.\n",
    "**tentativas++;** – Incrementa o contador de tentativas a cada palpite.\n",
    "\n",
    "**if (palpite < numeroAleatorio) { print('Muito baixo!'); }** – Diz que o palpite está abaixo.\n",
    "\n",
    "**else if (palpite > numeroAleatorio) { print('Muito alto!'); }** – Diz que o palpite está acima.\n",
    "\n",
    "**else { print('Parabéns! Você acertou em $tentativas tentativas.'); acertou = true; }** – Finaliza o jogo caso o jogador acerte."
   ]
  },
  {
   "cell_type": "markdown",
   "metadata": {},
   "source": [
    "***\n",
    "\n",
    "\n"
   ]
  }
 ],
 "metadata": {
  "language_info": {
   "name": "python"
  }
 },
 "nbformat": 4,
 "nbformat_minor": 2
}
